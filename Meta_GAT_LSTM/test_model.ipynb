{
 "cells": [
  {
   "cell_type": "code",
   "execution_count": 1,
   "metadata": {},
   "outputs": [
    {
     "name": "stderr",
     "output_type": "stream",
     "text": [
      "D:\\app2018\\Anaconda35\\lib\\site-packages\\tensorflow\\python\\framework\\dtypes.py:523: FutureWarning: Passing (type, 1) or '1type' as a synonym of type is deprecated; in a future version of numpy, it will be understood as (type, (1,)) / '(1,)type'.\n",
      "  _np_qint8 = np.dtype([(\"qint8\", np.int8, 1)])\n",
      "D:\\app2018\\Anaconda35\\lib\\site-packages\\tensorflow\\python\\framework\\dtypes.py:524: FutureWarning: Passing (type, 1) or '1type' as a synonym of type is deprecated; in a future version of numpy, it will be understood as (type, (1,)) / '(1,)type'.\n",
      "  _np_quint8 = np.dtype([(\"quint8\", np.uint8, 1)])\n",
      "D:\\app2018\\Anaconda35\\lib\\site-packages\\tensorflow\\python\\framework\\dtypes.py:525: FutureWarning: Passing (type, 1) or '1type' as a synonym of type is deprecated; in a future version of numpy, it will be understood as (type, (1,)) / '(1,)type'.\n",
      "  _np_qint16 = np.dtype([(\"qint16\", np.int16, 1)])\n",
      "D:\\app2018\\Anaconda35\\lib\\site-packages\\tensorflow\\python\\framework\\dtypes.py:526: FutureWarning: Passing (type, 1) or '1type' as a synonym of type is deprecated; in a future version of numpy, it will be understood as (type, (1,)) / '(1,)type'.\n",
      "  _np_quint16 = np.dtype([(\"quint16\", np.uint16, 1)])\n",
      "D:\\app2018\\Anaconda35\\lib\\site-packages\\tensorflow\\python\\framework\\dtypes.py:527: FutureWarning: Passing (type, 1) or '1type' as a synonym of type is deprecated; in a future version of numpy, it will be understood as (type, (1,)) / '(1,)type'.\n",
      "  _np_qint32 = np.dtype([(\"qint32\", np.int32, 1)])\n",
      "D:\\app2018\\Anaconda35\\lib\\site-packages\\tensorflow\\python\\framework\\dtypes.py:532: FutureWarning: Passing (type, 1) or '1type' as a synonym of type is deprecated; in a future version of numpy, it will be understood as (type, (1,)) / '(1,)type'.\n",
      "  np_resource = np.dtype([(\"resource\", np.ubyte, 1)])\n",
      "D:\\app2018\\Anaconda35\\lib\\site-packages\\h5py\\__init__.py:34: FutureWarning: Conversion of the second argument of issubdtype from `float` to `np.floating` is deprecated. In future, it will be treated as `np.float64 == np.dtype(float).type`.\n",
      "  from ._conv import register_converters as _register_converters\n",
      "D:\\app2018\\Anaconda35\\lib\\site-packages\\requests\\__init__.py:80: RequestsDependencyWarning: urllib3 (1.24.1) or chardet (3.0.4) doesn't match a supported version!\n",
      "  RequestsDependencyWarning)\n"
     ]
    }
   ],
   "source": [
    "import os\n",
    "import argparse\n",
    "import numpy as np\n",
    "import tensorflow as tf\n",
    "\n",
    "from gat_lstm import STDN\n",
    "from sklearn.metrics import mean_squared_error"
   ]
  },
  {
   "cell_type": "code",
   "execution_count": null,
   "metadata": {
    "collapsed": true
   },
   "outputs": [],
   "source": [
    "def test(model, data_generator, sess, saver):\n",
    "    train_inputs, train_labels = data_generator.get_all_data(purpose='train')\n",
    "    train_inputs, train_labels = train_inputs[0], train_labels[0]\n",
    "\n",
    "    test_inputs, test_labels = data_generator.get_all_data(purpose='test')\n",
    "    test_inputs, test_labels = test_inputs[0], test_labels[0]\n",
    "\n",
    "    train_batch_num = int(train_inputs.shape[1] / update_batch_size)\n",
    "    test_batch_num = int(test_inputs.shape[1] / update_batch_size)\n",
    "\n",
    "    if len(output_dir) > 0:\n",
    "        data_generator.save_test_ground_truth(output_dir=output_dir,\n",
    "                                              test_data_num=test_batch_num * update_batch_size)\n",
    "    for epoch in range(epochs):\n",
    "        total_test_loss = []\n",
    "        total_outputa = []\n",
    "\n",
    "        for i in range(test_batch_num):\n",
    "            inputa = test_inputs[:, i * update_batch_size: (i+1) * update_batch_size, :, :]\n",
    "            labela = test_labels[:, i * update_batch_size: (i+1) * update_batch_size, :]\n",
    "            if \"att\" in model_type:\n",
    "                dummy_clusters = np.zeros(shape=(len(inputa), update_batch_size, 1))\n",
    "                feed_dict = {model.inputa: inputa, model.labela: labela, model.clustera: dummy_clusters}\n",
    "            else:\n",
    "                feed_dict = {model.inputa: inputa, model.labela: labela}\n",
    "            outputa, loss1, = sess.run([model.outputas, model.total_loss1], feed_dict)\n",
    "            total_outputa.append(outputa)\n",
    "            total_test_loss.append(loss1)\n",
    "        total_outputa = np.concatenate(total_outputa, axis=1)\n",
    "\n",
    "        if len(output_dir) > 0:\n",
    "            np.savez(output_dir + \"/output_\" + model_type, total_outputa)\n",
    "            saver.save(sess, output_dir + \"/model_\" + model_type)\n",
    "        print(epoch, np.sqrt(np.mean(total_test_loss)))\n",
    "\n",
    "        total_train_loss = [] \n",
    "        total_train_outputa = []\n",
    "\n",
    "        for i in range(train_batch_num):\n",
    "            inputa = train_inputs[:, i * update_batch_size: (i + 1) * update_batch_size, :, :]\n",
    "            labela = train_labels[:, i * update_batch_size: (i + 1) * update_batch_size, :]\n",
    "            if \"att\" in model_type:\n",
    "                dummy_clusters = np.zeros(shape=(len(inputa), update_batch_size, 1))\n",
    "                feed_dict = {model.inputa: inputa, model.labela: labela, model.clustera: dummy_clusters}\n",
    "            else:\n",
    "                feed_dict = {model.inputa: inputa, model.labela: labela}\n",
    "            sess.run([model.finetune_op], feed_dict)\n",
    "            outputa, loss1 = sess.run([model.outputas, model.total_loss1], feed_dict)\n",
    "            total_train_outputa.append(outputa)\n",
    "            total_train_loss.append(loss1)\n",
    "\n",
    "        if len(output_dir) > 0:\n",
    "            np.savez(output_dir + \"/output_train_\" + model_type, total_train_outputa)\n",
    "        print(\"train:\", epoch, np.sqrt(np.mean(total_train_loss)))\n"
   ]
  }
 ],
 "metadata": {
  "kernelspec": {
   "display_name": "Python 3",
   "language": "python",
   "name": "python3"
  },
  "language_info": {
   "codemirror_mode": {
    "name": "ipython",
    "version": 3
   },
   "file_extension": ".py",
   "mimetype": "text/x-python",
   "name": "python",
   "nbconvert_exporter": "python",
   "pygments_lexer": "ipython3",
   "version": "3.6.2"
  }
 },
 "nbformat": 4,
 "nbformat_minor": 2
}
